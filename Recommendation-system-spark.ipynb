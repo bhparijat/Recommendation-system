{
 "cells": [
  {
   "cell_type": "code",
   "execution_count": 1,
   "metadata": {},
   "outputs": [],
   "source": [
    "from pyspark.ml.recommendation import ALS\n",
    "from pyspark.sql import SparkSession\n",
    "from pyspark.sql.functions import col\n",
    "from pyspark.sql.types import *\n",
    "import pathlib\n",
    "import numpy as np\n",
    "import warnings\n",
    "import math\n",
    "warnings.filterwarnings('ignore')"
   ]
  },
  {
   "cell_type": "code",
   "execution_count": 2,
   "metadata": {},
   "outputs": [],
   "source": [
    "#sc = SparkSession.builder.appName('als-recommender').getOrCreate()"
   ]
  },
  {
   "cell_type": "code",
   "execution_count": 4,
   "metadata": {},
   "outputs": [],
   "source": [
    "sc = SparkSession \\\n",
    "    .builder \\\n",
    "    .appName(\"movie recommendation\") \\\n",
    "    .config(\"spark.driver.maxResultSize\", \"96g\") \\\n",
    "    .config(\"spark.driver.memory\", \"96g\") \\\n",
    "    .config(\"spark.executor.memory\", \"8g\") \\\n",
    "    .config(\"spark.master\", \"local[16]\") \\\n",
    "    .config(\"spark.local.dir\",\"/home/bh_parijat/spark_temp/\")\\\n",
    "    .getOrCreate()\n",
    "# get spark context\n",
    "#sc = spark.sparkContext"
   ]
  },
  {
   "cell_type": "code",
   "execution_count": 5,
   "metadata": {},
   "outputs": [],
   "source": [
    "ratings_rdd  = sc.sparkContext.textFile('ml-1m/ratings.dat') \\\n",
    "                .map(lambda line: line.split(\"::\")) \\\n",
    "                .map(lambda x: (int(x[0]),int(x[1]),int(x[2])))\\\n",
    "                .cache()"
   ]
  },
  {
   "cell_type": "code",
   "execution_count": 6,
   "metadata": {},
   "outputs": [
    {
     "data": {
      "text/plain": [
       "[(1, 1193, 5), (1, 661, 3)]"
      ]
     },
     "execution_count": 6,
     "metadata": {},
     "output_type": "execute_result"
    }
   ],
   "source": [
    "ratings_rdd.take(2)\n",
    "\n"
   ]
  },
  {
   "cell_type": "code",
   "execution_count": 7,
   "metadata": {},
   "outputs": [],
   "source": [
    "#ratings_rdd = ratings_rdd.sample(False,0.6)"
   ]
  },
  {
   "cell_type": "code",
   "execution_count": 8,
   "metadata": {},
   "outputs": [],
   "source": [
    "schema = StructType([StructField('userId',LongType(),True),StructField('movieId',LongType(),True),StructField('rating',LongType(),True)])"
   ]
  },
  {
   "cell_type": "code",
   "execution_count": 9,
   "metadata": {},
   "outputs": [],
   "source": [
    "ratings = sc.createDataFrame(ratings_rdd,schema=schema)"
   ]
  },
  {
   "cell_type": "code",
   "execution_count": 10,
   "metadata": {},
   "outputs": [
    {
     "data": {
      "text/plain": [
       "[Row(userId=1, movieId=1193, rating=5),\n",
       " Row(userId=1, movieId=661, rating=3),\n",
       " Row(userId=1, movieId=914, rating=3)]"
      ]
     },
     "execution_count": 10,
     "metadata": {},
     "output_type": "execute_result"
    }
   ],
   "source": [
    "ratings.take(3)"
   ]
  },
  {
   "cell_type": "markdown",
   "metadata": {},
   "source": [
    "## Spilt data for training, validation and testing"
   ]
  },
  {
   "cell_type": "code",
   "execution_count": 11,
   "metadata": {},
   "outputs": [],
   "source": [
    "train_data, validation_data, test_data = ratings.randomSplit([0.6,0.2,0.2],seed=90)"
   ]
  },
  {
   "cell_type": "code",
   "execution_count": 12,
   "metadata": {},
   "outputs": [],
   "source": [
    "\n",
    "def model_train(train_data, validation_data, num_iters, ranks, regularizations):\n",
    "    \n",
    "    min_error = np.float('inf')\n",
    "    \n",
    "    best_rank = None\n",
    "    \n",
    "    best_model = None\n",
    "    \n",
    "    best_regularization = None\n",
    "    \n",
    "    for rank in ranks:\n",
    "        \n",
    "        for param in regularizations:\n",
    "            \n",
    "            model = ALS(rank=rank,maxIter=num_iters,regParam=param,userCol='userId',itemCol='movieId',nonnegative = True).fit(train_data)\n",
    "            \n",
    "            train =  train_data.select(['userId','movieId'])\n",
    "            \n",
    "            valid = validation_data.select(['userId','movieId'])\n",
    "            \n",
    "            \n",
    "            \n",
    "            predictions = model.transform(valid).fillna(0)\n",
    "            \n",
    "            \n",
    "            cond = [predictions.userId == validation_data.userId, predictions.movieId == validation_data.movieId]\n",
    "            temp = validation_data.join(predictions,cond).select(validation_data.rating, predictions.prediction)\n",
    "            \n",
    "            #print(temp.take(2))\n",
    "            error = math.sqrt(temp.rdd.map(lambda x: (x[-1]-x[-2])**2).mean())\n",
    "            \n",
    "            if error<min_error:\n",
    "                min_error = error\n",
    "                best_rank = rank\n",
    "                best_regularization = param\n",
    "                best_model = model\n",
    "            \n",
    "            #avg_error = error.select(\"select avg()\")\n",
    "            #print(error.take(2),error.mean(),error.sum(),type(error),error.count())\n",
    "            #print(predictions.take(2))\n",
    "            \n",
    "    return best_model,best_rank,best_regularization"
   ]
  },
  {
   "cell_type": "code",
   "execution_count": 13,
   "metadata": {},
   "outputs": [],
   "source": [
    "model,rank,regular_param = model_train(train_data, validation_data, 10,range(8,22,2),[0.1,1,2,4])"
   ]
  },
  {
   "cell_type": "markdown",
   "metadata": {},
   "source": [
    "## Best Hyperparameters"
   ]
  },
  {
   "cell_type": "code",
   "execution_count": 15,
   "metadata": {},
   "outputs": [
    {
     "name": "stdout",
     "output_type": "stream",
     "text": [
      "rank is 18 and regularization hyper-parameter is\n"
     ]
    }
   ],
   "source": [
    "print(\"rank is {} and regularization hyper-parameter is\".format(rank,regular_param))"
   ]
  },
  {
   "cell_type": "markdown",
   "metadata": {},
   "source": [
    "# Test trained model"
   ]
  },
  {
   "cell_type": "code",
   "execution_count": 78,
   "metadata": {},
   "outputs": [
    {
     "ename": "NameError",
     "evalue": "name 'h' is not defined",
     "output_type": "error",
     "traceback": [
      "\u001b[0;31m---------------------------------------------------------------------------\u001b[0m",
      "\u001b[0;31mNameError\u001b[0m                                 Traceback (most recent call last)",
      "\u001b[0;32m<ipython-input-78-f234b8d6ec7e>\u001b[0m in \u001b[0;36m<module>\u001b[0;34m\u001b[0m\n\u001b[0;32m----> 1\u001b[0;31m \u001b[0mtrain_data\u001b[0m \u001b[0;34m-\u001b[0m\u001b[0mh\u001b[0m\u001b[0;34m\u001b[0m\u001b[0;34m\u001b[0m\u001b[0m\n\u001b[0m",
      "\u001b[0;31mNameError\u001b[0m: name 'h' is not defined"
     ]
    }
   ],
   "source": []
  },
  {
   "cell_type": "code",
   "execution_count": null,
   "metadata": {},
   "outputs": [],
   "source": []
  }
 ],
 "metadata": {
  "kernelspec": {
   "display_name": "Python 3",
   "language": "python",
   "name": "python3"
  },
  "language_info": {
   "codemirror_mode": {
    "name": "ipython",
    "version": 3
   },
   "file_extension": ".py",
   "mimetype": "text/x-python",
   "name": "python",
   "nbconvert_exporter": "python",
   "pygments_lexer": "ipython3",
   "version": "3.7.5"
  }
 },
 "nbformat": 4,
 "nbformat_minor": 2
}
