{
 "cells": [
  {
   "cell_type": "code",
   "execution_count": 65,
   "metadata": {},
   "outputs": [],
   "source": [
    "from pyspark.ml.recommendation import ALS,ALSModel\n",
    "from pyspark.sql import SparkSession\n",
    "from pyspark.sql.functions import col,UserDefinedFunction\n",
    "from pyspark.sql.types import *\n",
    "import pathlib\n",
    "import numpy as np\n",
    "import warnings\n",
    "import math\n",
    "import matplotlib.pyplot as plt\n",
    "import re\n",
    "warnings.filterwarnings('ignore')"
   ]
  },
  {
   "cell_type": "code",
   "execution_count": 2,
   "metadata": {},
   "outputs": [],
   "source": [
    "#sc = SparkSession.builder.appName('als-recommender').getOrCreate()"
   ]
  },
  {
   "cell_type": "code",
   "execution_count": 3,
   "metadata": {},
   "outputs": [],
   "source": [
    "sc = SparkSession \\\n",
    "    .builder \\\n",
    "    .appName(\"movie recommendation\") \\\n",
    "    .config(\"spark.driver.maxResultSize\", \"100g\") \\\n",
    "    .config(\"spark.driver.memory\", \"100g\") \\\n",
    "    .config(\"spark.executor.memory\", \"10g\") \\\n",
    "    .config(\"spark.master\", \"local[16]\") \\\n",
    "    .config(\"spark.local.dir\",\"/home/bh_parijat/spark_temp/\")\\\n",
    "    .getOrCreate()\n",
    "# get spark context\n",
    "#sc = spark.sparkContext"
   ]
  },
  {
   "cell_type": "code",
   "execution_count": 4,
   "metadata": {},
   "outputs": [],
   "source": [
    "ratings_rdd  = sc.sparkContext.textFile('ml-1m/ratings.dat') \\\n",
    "                .map(lambda line: line.split(\"::\")) \\\n",
    "                .map(lambda x: (int(x[0]),int(x[1]),int(x[2])))\\\n",
    "                .cache()"
   ]
  },
  {
   "cell_type": "code",
   "execution_count": 42,
   "metadata": {},
   "outputs": [],
   "source": [
    "movies_rdd = sc.sparkContext.textFile('ml-1m/movies.dat')\\\n",
    "                .map(lambda line : line.split(\"::\"))\\\n",
    "                .map(lambda x:(int(x[0]),x[1]))\\\n",
    "                .cache()"
   ]
  },
  {
   "cell_type": "code",
   "execution_count": 57,
   "metadata": {},
   "outputs": [
    {
     "data": {
      "text/plain": [
       "[(1, 'Toy Story (1995)'), (2, 'Jumanji (1995)')]"
      ]
     },
     "execution_count": 57,
     "metadata": {},
     "output_type": "execute_result"
    }
   ],
   "source": [
    "movies_rdd.take(2)"
   ]
  },
  {
   "cell_type": "code",
   "execution_count": 47,
   "metadata": {},
   "outputs": [],
   "source": [
    "movies_schema = StructType([StructField('movieId',LongType(),True),StructField('name',StringType(),True)])"
   ]
  },
  {
   "cell_type": "code",
   "execution_count": 49,
   "metadata": {},
   "outputs": [],
   "source": [
    "movies = sc.createDataFrame(movies_rdd,schema = schema)"
   ]
  },
  {
   "cell_type": "code",
   "execution_count": 68,
   "metadata": {},
   "outputs": [],
   "source": [
    "get_names = lambda x: re.sub(r'\\(\\d{4}\\)',\"\",x).rstrip().lower()"
   ]
  },
  {
   "cell_type": "code",
   "execution_count": 67,
   "metadata": {},
   "outputs": [
    {
     "data": {
      "text/plain": [
       "'toy'"
      ]
     },
     "execution_count": 67,
     "metadata": {},
     "output_type": "execute_result"
    }
   ],
   "source": [
    "\n",
    "udf('Toy(1995)')"
   ]
  },
  {
   "cell_type": "code",
   "execution_count": 53,
   "metadata": {},
   "outputs": [],
   "source": [
    "#movies = movies.rdd.map(lambda x:(x[0],x[1])) )"
   ]
  },
  {
   "cell_type": "code",
   "execution_count": 54,
   "metadata": {},
   "outputs": [
    {
     "data": {
      "text/plain": [
       "[(1, 1193, 5), (1, 661, 3)]"
      ]
     },
     "execution_count": 54,
     "metadata": {},
     "output_type": "execute_result"
    }
   ],
   "source": [
    "ratings_rdd.take(2)\n",
    "\n"
   ]
  },
  {
   "cell_type": "code",
   "execution_count": 6,
   "metadata": {},
   "outputs": [],
   "source": [
    "#ratings_rdd = ratings_rdd.sample(False,0.6)"
   ]
  },
  {
   "cell_type": "code",
   "execution_count": 7,
   "metadata": {},
   "outputs": [],
   "source": [
    "schema = StructType([StructField('userId',LongType(),True),StructField('movieId',LongType(),True),StructField('rating',LongType(),True)])"
   ]
  },
  {
   "cell_type": "code",
   "execution_count": 8,
   "metadata": {},
   "outputs": [],
   "source": [
    "\n",
    "\n",
    "ratings = sc.createDataFrame(ratings_rdd,schema=schema)"
   ]
  },
  {
   "cell_type": "code",
   "execution_count": 9,
   "metadata": {},
   "outputs": [
    {
     "data": {
      "text/plain": [
       "[Row(userId=1, movieId=1193, rating=5),\n",
       " Row(userId=1, movieId=661, rating=3),\n",
       " Row(userId=1, movieId=914, rating=3)]"
      ]
     },
     "execution_count": 9,
     "metadata": {},
     "output_type": "execute_result"
    }
   ],
   "source": [
    "ratings.take(3)"
   ]
  },
  {
   "cell_type": "markdown",
   "metadata": {},
   "source": [
    "## Spilt data for training, validation and testing"
   ]
  },
  {
   "cell_type": "code",
   "execution_count": 10,
   "metadata": {},
   "outputs": [],
   "source": [
    "train_data, validation_data, test_data = ratings.randomSplit([0.6,0.2,0.2],seed=90)"
   ]
  },
  {
   "cell_type": "code",
   "execution_count": 11,
   "metadata": {},
   "outputs": [],
   "source": [
    "\n",
    "def model_train(train_data, validation_data, num_iters, ranks, regularizations):\n",
    "    \n",
    "    min_error = np.float('inf')\n",
    "    \n",
    "    best_rank = None\n",
    "    \n",
    "    best_model = None\n",
    "    \n",
    "    best_regularization = None\n",
    "    \n",
    "    for rank in ranks:\n",
    "        \n",
    "        for param in regularizations:\n",
    "            \n",
    "            model = ALS(rank=rank,maxIter=num_iters,regParam=param,userCol='userId',itemCol='movieId',nonnegative = True).fit(train_data)\n",
    "            \n",
    "            train =  train_data.select(['userId','movieId'])\n",
    "            \n",
    "            valid = validation_data.select(['userId','movieId'])\n",
    "            \n",
    "            \n",
    "            \n",
    "            predictions = model.transform(valid).fillna(0)\n",
    "            \n",
    "            \n",
    "            cond = [predictions.userId == validation_data.userId, predictions.movieId == validation_data.movieId]\n",
    "            temp = validation_data.join(predictions,cond).select(validation_data.rating, predictions.prediction)\n",
    "            \n",
    "            #print(temp.take(2))\n",
    "            error = math.sqrt(temp.rdd.map(lambda x: (x[-1]-x[-2])**2).mean())\n",
    "            \n",
    "            if error<min_error:\n",
    "                min_error = error\n",
    "                best_rank = rank\n",
    "                best_regularization = param\n",
    "                best_model = model\n",
    "            \n",
    "            #avg_error = error.select(\"select avg()\")\n",
    "            #print(error.take(2),error.mean(),error.sum(),type(error),error.count())\n",
    "            #print(predictions.take(2))\n",
    "            \n",
    "    return best_model,best_rank,best_regularization"
   ]
  },
  {
   "cell_type": "code",
   "execution_count": 12,
   "metadata": {},
   "outputs": [],
   "source": [
    "model,rank,regular_param = model_train(train_data, validation_data, 10,range(8,22,2),[0.1,1,2,4])"
   ]
  },
  {
   "cell_type": "markdown",
   "metadata": {},
   "source": [
    "## Best Hyperparameters"
   ]
  },
  {
   "cell_type": "code",
   "execution_count": 16,
   "metadata": {},
   "outputs": [
    {
     "name": "stdout",
     "output_type": "stream",
     "text": [
      "rank is 20 and regularization hyper-parameter is 0.1\n"
     ]
    }
   ],
   "source": [
    "model.write().overwrite().save(str(pathlib.Path().absolute()/'model'))\n",
    "print(\"rank is {} and regularization hyper-parameter is {}\".format(rank,regular_param))"
   ]
  },
  {
   "cell_type": "markdown",
   "metadata": {},
   "source": [
    "## Get the learning curve"
   ]
  },
  {
   "cell_type": "code",
   "execution_count": 15,
   "metadata": {},
   "outputs": [],
   "source": [
    "def get_training_curve(train,rank,regular_param, iterations):\n",
    "    \n",
    "    errors = []\n",
    "    \n",
    "    for num_iters in range(1,iterations):\n",
    "        model = ALS(rank = rank, maxIter = num_iters, regParam = regular_param, userCol = 'userId', itemCol = 'movieId', nonnegative = True ).fit(train)\n",
    "\n",
    "        predictions = model.transform(train).fillna(0)\n",
    "\n",
    "        condition = [train.userId == predictions.userId,  train.movieId == predictions.movieId]\n",
    "\n",
    "        error = predictions.join(train,condition).select(predictions.prediction,train.rating).rdd.map(lambda x: (x[0]-x[1])**2).mean()\n",
    "\n",
    "        errors.append(math.sqrt(error))\n",
    "        \n",
    "        #print(predictions.schema)\n",
    "        \n",
    "        predictions.select(predictions.userId,predictions.movieId,predictions.prediction).withColumnRenamed(\"prediction\",\"rating\")\n",
    "        \n",
    "    return errors\n",
    "    "
   ]
  },
  {
   "cell_type": "code",
   "execution_count": 17,
   "metadata": {},
   "outputs": [],
   "source": [
    "errors = get_training_curve(train_data,rank=20,regular_param=0.1,iterations=11)"
   ]
  },
  {
   "cell_type": "code",
   "execution_count": 18,
   "metadata": {},
   "outputs": [
    {
     "data": {
      "text/plain": [
       "[<matplotlib.lines.Line2D at 0x7f30ee161350>]"
      ]
     },
     "execution_count": 18,
     "metadata": {},
     "output_type": "execute_result"
    },
    {
     "data": {
      "image/png": "[encoded data removed]",
      "text/plain": [
       "<Figure size 432x288 with 1 Axes>"
      ]
     },
     "metadata": {
      "needs_background": "light"
     },
     "output_type": "display_data"
    }
   ],
   "source": [
    "plt.plot(errors)"
   ]
  },
  {
   "cell_type": "markdown",
   "metadata": {},
   "source": [
    "## The minimum training error"
   ]
  },
  {
   "cell_type": "code",
   "execution_count": 20,
   "metadata": {},
   "outputs": [
    {
     "data": {
      "text/plain": [
       "0.7909596187552549"
      ]
     },
     "execution_count": 20,
     "metadata": {},
     "output_type": "execute_result"
    }
   ],
   "source": [
    "min(errors)"
   ]
  },
  {
   "cell_type": "code",
   "execution_count": 38,
   "metadata": {},
   "outputs": [],
   "source": [
    "test_predictions = ALSModel.read().load((str(pathlib.Path().absolute()/'model'))).transform(test_data).fillna(0)"
   ]
  },
  {
   "cell_type": "code",
   "execution_count": 39,
   "metadata": {},
   "outputs": [],
   "source": [
    "test_error = math.sqrt(test_predictions.rdd.map(lambda x: (x.rating-x.prediction)**2).mean())"
   ]
  },
  {
   "cell_type": "code",
   "execution_count": 40,
   "metadata": {},
   "outputs": [
    {
     "data": {
      "text/plain": [
       "0.8744198541233533"
      ]
     },
     "execution_count": 40,
     "metadata": {},
     "output_type": "execute_result"
    }
   ],
   "source": [
    "test_error"
   ]
  },
  {
   "cell_type": "code",
   "execution_count": null,
   "metadata": {},
   "outputs": [],
   "source": [
    "def get_ids(movies,fav_movies_names):\n",
    "    \n",
    "    movie_ids = movies.filter(lambda x :)"
   ]
  }
 ],
 "metadata": {
  "kernelspec": {
   "display_name": "Python 3",
   "language": "python",
   "name": "python3"
  },
  "language_info": {
   "codemirror_mode": {
    "name": "ipython",
    "version": 3
   },
   "file_extension": ".py",
   "mimetype": "text/x-python",
   "name": "python",
   "nbconvert_exporter": "python",
   "pygments_lexer": "ipython3",
   "version": "3.7.5"
  }
 },
 "nbformat": 4,
 "nbformat_minor": 2
}
