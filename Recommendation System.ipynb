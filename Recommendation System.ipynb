{
 "cells": [
  {
   "cell_type": "code",
   "execution_count": 65,
   "metadata": {},
   "outputs": [],
   "source": [
    "import pandas as pd\n",
    "import numpy as np\n",
    "import warnings\n",
    "from tqdm import tqdm\n",
    "warnings.filterwarnings('ignore')\n",
    "from sklearn.model_selection import train_test_split\n",
    "from sklearn.metrics.pairwise import cosine_similarity\n",
    "import matplotlib.pyplot as plt\n",
    "from scipy.sparse import csr_matrix\n",
    "from sklearn.neighbors import KNeighborsClassifier,NearestNeighbors\n",
    "import pathlib\n",
    "import seaborn as sns\n",
    "import time"
   ]
  },
  {
   "cell_type": "code",
   "execution_count": 139,
   "metadata": {},
   "outputs": [],
   "source": [
    "\n",
    "class RecommendationSystem:\n",
    "    \"\"\"\n",
    "    item-based collaborative filtering for movie-lens dataset using sklearn's nearest neighbors\n",
    "    \n",
    "    \"\"\"\n",
    "    def __init__(self,movie_th,user_th,movie_path,ratings_path,users_path):\n",
    "        \n",
    "        \"\"\"\n",
    "        Description:\n",
    "            1. Initialization of threshold values\n",
    "            2. Initialization of file paths\n",
    "            3. Initialization of models\n",
    "        \n",
    "        \"\"\"\n",
    "        self.movie_th = movie_th\n",
    "        self.user_th = user_th\n",
    "        self.movies_path = movie_path\n",
    "        self.ratings_path = ratings_path\n",
    "        self.path = pathlib.Path().absolute() / 'ml-1m'\n",
    "        self.users_path = users_path\n",
    "        self.model = NearestNeighbors()\n",
    "        self.data_matrix = None \n",
    "        self.dic_movie_name = None\n",
    "        self.dic_movie_id = None\n",
    "    def define_model_parameters(self,n_neighbors,algorithm,metric,jobs=1):\n",
    "        \n",
    "        #print(n_neighbors,algorithm,metric,jobs)\n",
    "        \"\"\"\n",
    "        Args:\n",
    "            n_neighbors : number of neighbors used for calculating similarity\n",
    "            algorithm : type of algorithm used i.e brute force, KDTRee, BallTree for building model\n",
    "            metric : how similarity is being measured i.e cosine, l1,l2 norm \n",
    "            jobs :  number of processors to be used in parallel\n",
    "        \"\"\"\n",
    "        self.model.set_params(**{\n",
    "            'n_neighbors':n_neighbors,\n",
    "            'algorithm': algorithm,\n",
    "            'metric': metric,\n",
    "            'n_jobs' : jobs\n",
    "        })\n",
    "            \n",
    "        \n",
    "        \n",
    "    def read_clean_prepare(self):\n",
    "        \n",
    "        \n",
    "        \n",
    "        self.ratings = pd.read_csv(\n",
    "            self.path/self.ratings_path,\n",
    "            sep='::',\n",
    "            names=['userId','movieId','rating','timestamp'],\n",
    "            usecols = ['userId','movieId','rating'],\n",
    "            dtype= {'userId':np.int32,'movieId':np.int32,'rating':np.float32}\n",
    "        )\n",
    "        \n",
    "        self.movies = pd.read_csv(\n",
    "            self.path/self.movies_path,\n",
    "            sep='::',\n",
    "            names=['movieId','title','genres'],\n",
    "            usecols = ['movieId','title'],\n",
    "            dtype= {'movieId':np.int32,'title':str}\n",
    "        )\n",
    "        \n",
    "        self.movies.title = self.movies.title.str.lower()\n",
    "        self.movies['name'] = self.movies.title.str.replace(r'\\(\\d{4}\\)',\"\")\n",
    "        self.movies.name = self.movies.name.str.rstrip()\n",
    "        self.dic_movie_name = dict([(row.movieId,row.title) for row in self.movies.itertuples()])\n",
    "        self.dic_movie_id = dict([(row.name,row.movieId) for row in self.movies.itertuples()])\n",
    "        temp = self.ratings.groupby('movieId').agg({'userId':len})\n",
    "        self.pop_movies = temp[temp['userId']>=recommender.movie_th].index\n",
    "        \n",
    "        \n",
    "        self.data_matrix = self.ratings.pivot(index = 'movieId',columns = 'userId', values = 'rating').fillna(0)\n",
    "        \n",
    "        self.data_matrix = csr_matrix(self.data_matrix)\n",
    "        \n",
    "        \n",
    "        time.sleep(3)\n",
    "        self.define_model_parameters(20,'brute','cosine')\n",
    "        \n",
    "        \n",
    "        self.model.fit(self.data_matrix)\n",
    "        \n",
    "    def plot_rating_freq(self):\n",
    "        temp = self.ratings.groupby('movieId').agg({'userId':len})\n",
    "\n",
    "        #temp = temp.reset_index()\n",
    "        temp = temp.sort_values(by=['userId'],ascending=False)\n",
    "        temp.index = pd.RangeIndex(0,temp.shape[0])\n",
    "        plt.plot(temp.index,temp['userId'])\n",
    "        plt.title('movie rating frequency')\n",
    "        plt.xlabel(\"movies\")\n",
    "        plt.ylabel(\"number of ratings\")\n",
    "        \n",
    "        \n",
    "    def recommend(self,fav,how_many):\n",
    "        \n",
    "        \n",
    "        \"\"\"\n",
    "        Args:\n",
    "        \n",
    "            fav: name of favorite movie\n",
    "            how_many : number of similar movies to be recommended\n",
    "            \n",
    "        Returns:\n",
    "            \n",
    "            Exits if the movie not in database else returns the name of the movies.\n",
    "        \n",
    "        \"\"\"\n",
    "        if fav not in self.dic_movie_id:\n",
    "            print(\"Movie not found in the database\\n\")\n",
    "            exit() \n",
    "        \n",
    "        fav_id = self.dic_movie_id[fav]\n",
    "        _,recommendations = self.model.kneighbors(self.data_matrix[fav_id],n_neighbors=how_many+1)\n",
    "        \n",
    "        recommendations = [self.dic_movie_name[x] for x in recommendations[0][1:]]\n",
    "        #print(recommendations)\n",
    "        print(\"Top {} recommendations are:\\n\".format(how_many))\n",
    "        \n",
    "        for i in range(how_many):\n",
    "            \n",
    "            print(\"{}. {}\".format(i+1,recommendations[i]))\n",
    "        return "
   ]
  },
  {
   "cell_type": "code",
   "execution_count": 140,
   "metadata": {},
   "outputs": [],
   "source": [
    "recommender = RecommendationSystem(50,50,'movies.dat','ratings.dat','users.dat')"
   ]
  },
  {
   "cell_type": "code",
   "execution_count": 141,
   "metadata": {},
   "outputs": [
    {
     "name": "stdout",
     "output_type": "stream",
     "text": [
      "20 brute cosine 1\n"
     ]
    }
   ],
   "source": [
    "recommender.read_clean_prepare()"
   ]
  },
  {
   "cell_type": "code",
   "execution_count": 142,
   "metadata": {},
   "outputs": [
    {
     "data": {
      "image/png": "[encoded data removed]",
      "text/plain": [
       "<Figure size 432x288 with 1 Axes>"
      ]
     },
     "metadata": {},
     "output_type": "display_data"
    }
   ],
   "source": [
    "recommender.plot_rating_freq()"
   ]
  },
  {
   "cell_type": "code",
   "execution_count": 143,
   "metadata": {},
   "outputs": [
    {
     "data": {
      "text/plain": [
       "(3706, 6040)"
      ]
     },
     "execution_count": 143,
     "metadata": {},
     "output_type": "execute_result"
    }
   ],
   "source": [
    "recommender.data_matrix.shape"
   ]
  },
  {
   "cell_type": "code",
   "execution_count": 144,
   "metadata": {},
   "outputs": [
    {
     "name": "stdout",
     "output_type": "stream",
     "text": [
      "Top 10 recommendations are:\n",
      "\n",
      "1. patriot games (1992)\n",
      "2. land and freedom (tierra y libertad) (1995)\n",
      "3. postino, il (the postman) (1994)\n",
      "4. mis�rables, les (1998)\n",
      "5. friday the 13th part vii: the new blood (1988)\n",
      "6. three colors: white (1994)\n",
      "7. four weddings and a funeral (1994)\n",
      "8. extreme measures (1996)\n",
      "9. back to the future part iii (1990)\n",
      "10. superweib, das (1996)\n"
     ]
    }
   ],
   "source": [
    "recommender.recommend('toy story',10)"
   ]
  },
  {
   "cell_type": "code",
   "execution_count": null,
   "metadata": {},
   "outputs": [],
   "source": []
  }
 ],
 "metadata": {
  "kernelspec": {
   "display_name": "Python 3",
   "language": "python",
   "name": "python3"
  },
  "language_info": {
   "codemirror_mode": {
    "name": "ipython",
    "version": 3
   },
   "file_extension": ".py",
   "mimetype": "text/x-python",
   "name": "python",
   "nbconvert_exporter": "python",
   "pygments_lexer": "ipython3",
   "version": "3.6.5"
  }
 },
 "nbformat": 4,
 "nbformat_minor": 2
}
